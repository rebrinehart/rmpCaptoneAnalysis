{
 "cells": [
  {
   "cell_type": "markdown",
   "metadata": {
    "id": "wKJILhDeyzAr"
   },
   "source": [
    "# Capstone Project\n",
    "\n",
    "Team members:\n",
    "\n",
    "1. Jayant Dabas\n",
    "2. Rebecca Rinehart\n",
    "3. Eric Zhao"
   ]
  },
  {
   "cell_type": "markdown",
   "metadata": {
    "id": "_mRUofTGClu3"
   },
   "source": [
    "Eric's N-number: N19057054"
   ]
  },
  {
   "cell_type": "code",
   "execution_count": 76,
   "metadata": {
    "id": "YjViZx0xEScx"
   },
   "outputs": [],
   "source": [
    "# Import packages\n",
    "\n",
    "import urllib.request\n",
    "\n",
    "import pandas as pd\n",
    "import numpy as np\n",
    "\n",
    "import matplotlib.pyplot as plt\n",
    "import seaborn as sns\n",
    "\n",
    "from scipy import stats"
   ]
  },
  {
   "cell_type": "code",
   "execution_count": 77,
   "metadata": {
    "id": "ts739cpPXZ7V"
   },
   "outputs": [],
   "source": [
    "# Seed random generator using Eric's N-number\n",
    "\n",
    "np.random.seed(19057054)"
   ]
  },
  {
   "cell_type": "code",
   "execution_count": 78,
   "metadata": {
    "id": "uOF8F_MoE9Pp"
   },
   "outputs": [],
   "source": [
    "def load_data(filename):\n",
    "  col_names = {\n",
    "    'rmpCapstoneNum.csv': ['avg_rating', 'avg_difficulty', 'num_ratings', 'is_pepper', 'num_repeat', 'num_online', 'is_male', 'is_female'],\n",
    "    'rmpCapstoneQual.csv': ['major', 'university', 'state'],\n",
    "    'rmpCapstoneTags.csv': ['tag1', 'tag2', 'tag3', 'tag4', 'tag5', 'tag6', 'tag7', 'tag8', 'tag9', 'tag10', 'tag11', 'tag12', 'tag13', 'tag14', 'tag15', 'tag16', 'tag17', 'tag18', 'tag19', 'tag20']\n",
    "  }\n",
    "  return pd.read_csv(filename, names=col_names[filename])\n",
    "\n",
    "df_num  = load_data('rmpCapstoneNum.csv')\n",
    "df_qual = load_data('rmpCapstoneQual.csv')\n",
    "df_tags = load_data('rmpCapstoneTags.csv')"
   ]
  },
  {
   "cell_type": "code",
   "execution_count": 79,
   "metadata": {
    "colab": {
     "base_uri": "https://localhost:8080/",
     "height": 584
    },
    "id": "nnNYsElW3qpS",
    "outputId": "b76d9a81-c7e2-4e3d-882a-0a46c2aabcd3"
   },
   "outputs": [
    {
     "data": {
      "text/html": [
       "<div>\n",
       "<style scoped>\n",
       "    .dataframe tbody tr th:only-of-type {\n",
       "        vertical-align: middle;\n",
       "    }\n",
       "\n",
       "    .dataframe tbody tr th {\n",
       "        vertical-align: top;\n",
       "    }\n",
       "\n",
       "    .dataframe thead th {\n",
       "        text-align: right;\n",
       "    }\n",
       "</style>\n",
       "<table border=\"1\" class=\"dataframe\">\n",
       "  <thead>\n",
       "    <tr style=\"text-align: right;\">\n",
       "      <th></th>\n",
       "      <th>avg_rating</th>\n",
       "      <th>avg_difficulty</th>\n",
       "      <th>num_ratings</th>\n",
       "      <th>is_pepper</th>\n",
       "      <th>num_repeat</th>\n",
       "      <th>num_online</th>\n",
       "      <th>is_male</th>\n",
       "      <th>is_female</th>\n",
       "    </tr>\n",
       "  </thead>\n",
       "  <tbody>\n",
       "    <tr>\n",
       "      <th>0</th>\n",
       "      <td>5.0</td>\n",
       "      <td>1.5</td>\n",
       "      <td>2.0</td>\n",
       "      <td>0.0</td>\n",
       "      <td>NaN</td>\n",
       "      <td>0.0</td>\n",
       "      <td>0</td>\n",
       "      <td>1</td>\n",
       "    </tr>\n",
       "    <tr>\n",
       "      <th>1</th>\n",
       "      <td>NaN</td>\n",
       "      <td>NaN</td>\n",
       "      <td>NaN</td>\n",
       "      <td>NaN</td>\n",
       "      <td>NaN</td>\n",
       "      <td>NaN</td>\n",
       "      <td>0</td>\n",
       "      <td>0</td>\n",
       "    </tr>\n",
       "    <tr>\n",
       "      <th>2</th>\n",
       "      <td>3.2</td>\n",
       "      <td>3.0</td>\n",
       "      <td>4.0</td>\n",
       "      <td>0.0</td>\n",
       "      <td>NaN</td>\n",
       "      <td>0.0</td>\n",
       "      <td>1</td>\n",
       "      <td>0</td>\n",
       "    </tr>\n",
       "    <tr>\n",
       "      <th>3</th>\n",
       "      <td>3.6</td>\n",
       "      <td>3.5</td>\n",
       "      <td>10.0</td>\n",
       "      <td>1.0</td>\n",
       "      <td>NaN</td>\n",
       "      <td>0.0</td>\n",
       "      <td>0</td>\n",
       "      <td>0</td>\n",
       "    </tr>\n",
       "    <tr>\n",
       "      <th>4</th>\n",
       "      <td>1.0</td>\n",
       "      <td>5.0</td>\n",
       "      <td>1.0</td>\n",
       "      <td>0.0</td>\n",
       "      <td>NaN</td>\n",
       "      <td>0.0</td>\n",
       "      <td>0</td>\n",
       "      <td>0</td>\n",
       "    </tr>\n",
       "  </tbody>\n",
       "</table>\n",
       "</div>"
      ],
      "text/plain": [
       "   avg_rating  avg_difficulty  num_ratings  is_pepper  num_repeat  num_online  \\\n",
       "0         5.0             1.5          2.0        0.0         NaN         0.0   \n",
       "1         NaN             NaN          NaN        NaN         NaN         NaN   \n",
       "2         3.2             3.0          4.0        0.0         NaN         0.0   \n",
       "3         3.6             3.5         10.0        1.0         NaN         0.0   \n",
       "4         1.0             5.0          1.0        0.0         NaN         0.0   \n",
       "\n",
       "   is_male  is_female  \n",
       "0        0          1  \n",
       "1        0          0  \n",
       "2        1          0  \n",
       "3        0          0  \n",
       "4        0          0  "
      ]
     },
     "metadata": {},
     "output_type": "display_data"
    },
    {
     "data": {
      "text/html": [
       "<div>\n",
       "<style scoped>\n",
       "    .dataframe tbody tr th:only-of-type {\n",
       "        vertical-align: middle;\n",
       "    }\n",
       "\n",
       "    .dataframe tbody tr th {\n",
       "        vertical-align: top;\n",
       "    }\n",
       "\n",
       "    .dataframe thead th {\n",
       "        text-align: right;\n",
       "    }\n",
       "</style>\n",
       "<table border=\"1\" class=\"dataframe\">\n",
       "  <thead>\n",
       "    <tr style=\"text-align: right;\">\n",
       "      <th></th>\n",
       "      <th>major</th>\n",
       "      <th>university</th>\n",
       "      <th>state</th>\n",
       "    </tr>\n",
       "  </thead>\n",
       "  <tbody>\n",
       "    <tr>\n",
       "      <th>0</th>\n",
       "      <td>Criminal Justice</td>\n",
       "      <td>George Mason University</td>\n",
       "      <td>VA</td>\n",
       "    </tr>\n",
       "    <tr>\n",
       "      <th>1</th>\n",
       "      <td>NaN</td>\n",
       "      <td>NaN</td>\n",
       "      <td>NaN</td>\n",
       "    </tr>\n",
       "    <tr>\n",
       "      <th>2</th>\n",
       "      <td>English</td>\n",
       "      <td>Alabama State University</td>\n",
       "      <td>AL</td>\n",
       "    </tr>\n",
       "    <tr>\n",
       "      <th>3</th>\n",
       "      <td>English</td>\n",
       "      <td>University of Kentucky</td>\n",
       "      <td>KY</td>\n",
       "    </tr>\n",
       "    <tr>\n",
       "      <th>4</th>\n",
       "      <td>English</td>\n",
       "      <td>Keiser University</td>\n",
       "      <td>FL</td>\n",
       "    </tr>\n",
       "  </tbody>\n",
       "</table>\n",
       "</div>"
      ],
      "text/plain": [
       "              major                university state\n",
       "0  Criminal Justice   George Mason University    VA\n",
       "1               NaN                       NaN   NaN\n",
       "2           English  Alabama State University    AL\n",
       "3           English    University of Kentucky    KY\n",
       "4           English         Keiser University    FL"
      ]
     },
     "metadata": {},
     "output_type": "display_data"
    },
    {
     "data": {
      "text/html": [
       "<div>\n",
       "<style scoped>\n",
       "    .dataframe tbody tr th:only-of-type {\n",
       "        vertical-align: middle;\n",
       "    }\n",
       "\n",
       "    .dataframe tbody tr th {\n",
       "        vertical-align: top;\n",
       "    }\n",
       "\n",
       "    .dataframe thead th {\n",
       "        text-align: right;\n",
       "    }\n",
       "</style>\n",
       "<table border=\"1\" class=\"dataframe\">\n",
       "  <thead>\n",
       "    <tr style=\"text-align: right;\">\n",
       "      <th></th>\n",
       "      <th>tag1</th>\n",
       "      <th>tag2</th>\n",
       "      <th>tag3</th>\n",
       "      <th>tag4</th>\n",
       "      <th>tag5</th>\n",
       "      <th>tag6</th>\n",
       "      <th>tag7</th>\n",
       "      <th>tag8</th>\n",
       "      <th>tag9</th>\n",
       "      <th>tag10</th>\n",
       "      <th>tag11</th>\n",
       "      <th>tag12</th>\n",
       "      <th>tag13</th>\n",
       "      <th>tag14</th>\n",
       "      <th>tag15</th>\n",
       "      <th>tag16</th>\n",
       "      <th>tag17</th>\n",
       "      <th>tag18</th>\n",
       "      <th>tag19</th>\n",
       "      <th>tag20</th>\n",
       "    </tr>\n",
       "  </thead>\n",
       "  <tbody>\n",
       "    <tr>\n",
       "      <th>0</th>\n",
       "      <td>0</td>\n",
       "      <td>0</td>\n",
       "      <td>0</td>\n",
       "      <td>0</td>\n",
       "      <td>0</td>\n",
       "      <td>1</td>\n",
       "      <td>0</td>\n",
       "      <td>0</td>\n",
       "      <td>0</td>\n",
       "      <td>0</td>\n",
       "      <td>0</td>\n",
       "      <td>0</td>\n",
       "      <td>0</td>\n",
       "      <td>0</td>\n",
       "      <td>0</td>\n",
       "      <td>0</td>\n",
       "      <td>0</td>\n",
       "      <td>0</td>\n",
       "      <td>0</td>\n",
       "      <td>1</td>\n",
       "    </tr>\n",
       "    <tr>\n",
       "      <th>1</th>\n",
       "      <td>0</td>\n",
       "      <td>0</td>\n",
       "      <td>0</td>\n",
       "      <td>0</td>\n",
       "      <td>0</td>\n",
       "      <td>0</td>\n",
       "      <td>0</td>\n",
       "      <td>0</td>\n",
       "      <td>0</td>\n",
       "      <td>0</td>\n",
       "      <td>0</td>\n",
       "      <td>0</td>\n",
       "      <td>0</td>\n",
       "      <td>0</td>\n",
       "      <td>0</td>\n",
       "      <td>0</td>\n",
       "      <td>0</td>\n",
       "      <td>0</td>\n",
       "      <td>0</td>\n",
       "      <td>0</td>\n",
       "    </tr>\n",
       "    <tr>\n",
       "      <th>2</th>\n",
       "      <td>2</td>\n",
       "      <td>1</td>\n",
       "      <td>2</td>\n",
       "      <td>1</td>\n",
       "      <td>0</td>\n",
       "      <td>4</td>\n",
       "      <td>2</td>\n",
       "      <td>0</td>\n",
       "      <td>0</td>\n",
       "      <td>0</td>\n",
       "      <td>0</td>\n",
       "      <td>0</td>\n",
       "      <td>0</td>\n",
       "      <td>0</td>\n",
       "      <td>0</td>\n",
       "      <td>0</td>\n",
       "      <td>0</td>\n",
       "      <td>0</td>\n",
       "      <td>0</td>\n",
       "      <td>0</td>\n",
       "    </tr>\n",
       "    <tr>\n",
       "      <th>3</th>\n",
       "      <td>6</td>\n",
       "      <td>3</td>\n",
       "      <td>0</td>\n",
       "      <td>0</td>\n",
       "      <td>2</td>\n",
       "      <td>4</td>\n",
       "      <td>2</td>\n",
       "      <td>1</td>\n",
       "      <td>0</td>\n",
       "      <td>0</td>\n",
       "      <td>0</td>\n",
       "      <td>2</td>\n",
       "      <td>1</td>\n",
       "      <td>0</td>\n",
       "      <td>0</td>\n",
       "      <td>0</td>\n",
       "      <td>0</td>\n",
       "      <td>0</td>\n",
       "      <td>1</td>\n",
       "      <td>0</td>\n",
       "    </tr>\n",
       "    <tr>\n",
       "      <th>4</th>\n",
       "      <td>0</td>\n",
       "      <td>0</td>\n",
       "      <td>0</td>\n",
       "      <td>0</td>\n",
       "      <td>0</td>\n",
       "      <td>0</td>\n",
       "      <td>0</td>\n",
       "      <td>0</td>\n",
       "      <td>0</td>\n",
       "      <td>0</td>\n",
       "      <td>0</td>\n",
       "      <td>0</td>\n",
       "      <td>0</td>\n",
       "      <td>0</td>\n",
       "      <td>0</td>\n",
       "      <td>0</td>\n",
       "      <td>0</td>\n",
       "      <td>0</td>\n",
       "      <td>0</td>\n",
       "      <td>0</td>\n",
       "    </tr>\n",
       "  </tbody>\n",
       "</table>\n",
       "</div>"
      ],
      "text/plain": [
       "   tag1  tag2  tag3  tag4  tag5  tag6  tag7  tag8  tag9  tag10  tag11  tag12  \\\n",
       "0     0     0     0     0     0     1     0     0     0      0      0      0   \n",
       "1     0     0     0     0     0     0     0     0     0      0      0      0   \n",
       "2     2     1     2     1     0     4     2     0     0      0      0      0   \n",
       "3     6     3     0     0     2     4     2     1     0      0      0      2   \n",
       "4     0     0     0     0     0     0     0     0     0      0      0      0   \n",
       "\n",
       "   tag13  tag14  tag15  tag16  tag17  tag18  tag19  tag20  \n",
       "0      0      0      0      0      0      0      0      1  \n",
       "1      0      0      0      0      0      0      0      0  \n",
       "2      0      0      0      0      0      0      0      0  \n",
       "3      1      0      0      0      0      0      1      0  \n",
       "4      0      0      0      0      0      0      0      0  "
      ]
     },
     "metadata": {},
     "output_type": "display_data"
    }
   ],
   "source": [
    "display(df_num.head())\n",
    "display(df_qual.head())\n",
    "display(df_tags.head())"
   ]
  },
  {
   "cell_type": "code",
   "execution_count": 80,
   "metadata": {
    "colab": {
     "base_uri": "https://localhost:8080/"
    },
    "id": "f1pmyuq-3yGN",
    "outputId": "64dfd86f-3166-459b-824c-9d7e47a8fc54"
   },
   "outputs": [
    {
     "name": "stdout",
     "output_type": "stream",
     "text": [
      "89893\n",
      "89893\n",
      "89893\n"
     ]
    }
   ],
   "source": [
    "# confirm same sample size\n",
    "print(len(df_num))\n",
    "print(len(df_qual))\n",
    "print(len(df_tags))"
   ]
  },
  {
   "cell_type": "markdown",
   "metadata": {},
   "source": [
    "**Merge dataframes into one**"
   ]
  },
  {
   "cell_type": "code",
   "execution_count": 81,
   "metadata": {},
   "outputs": [
    {
     "data": {
      "text/html": [
       "<div>\n",
       "<style scoped>\n",
       "    .dataframe tbody tr th:only-of-type {\n",
       "        vertical-align: middle;\n",
       "    }\n",
       "\n",
       "    .dataframe tbody tr th {\n",
       "        vertical-align: top;\n",
       "    }\n",
       "\n",
       "    .dataframe thead th {\n",
       "        text-align: right;\n",
       "    }\n",
       "</style>\n",
       "<table border=\"1\" class=\"dataframe\">\n",
       "  <thead>\n",
       "    <tr style=\"text-align: right;\">\n",
       "      <th></th>\n",
       "      <th>avg_rating</th>\n",
       "      <th>avg_difficulty</th>\n",
       "      <th>num_ratings</th>\n",
       "      <th>is_pepper</th>\n",
       "      <th>num_repeat</th>\n",
       "      <th>num_online</th>\n",
       "      <th>is_male</th>\n",
       "      <th>is_female</th>\n",
       "      <th>major</th>\n",
       "      <th>university</th>\n",
       "      <th>...</th>\n",
       "      <th>tag11</th>\n",
       "      <th>tag12</th>\n",
       "      <th>tag13</th>\n",
       "      <th>tag14</th>\n",
       "      <th>tag15</th>\n",
       "      <th>tag16</th>\n",
       "      <th>tag17</th>\n",
       "      <th>tag18</th>\n",
       "      <th>tag19</th>\n",
       "      <th>tag20</th>\n",
       "    </tr>\n",
       "  </thead>\n",
       "  <tbody>\n",
       "    <tr>\n",
       "      <th>0</th>\n",
       "      <td>5.0</td>\n",
       "      <td>1.5</td>\n",
       "      <td>2.0</td>\n",
       "      <td>0.0</td>\n",
       "      <td>NaN</td>\n",
       "      <td>0.0</td>\n",
       "      <td>0</td>\n",
       "      <td>1</td>\n",
       "      <td>Criminal Justice</td>\n",
       "      <td>George Mason University</td>\n",
       "      <td>...</td>\n",
       "      <td>0</td>\n",
       "      <td>0</td>\n",
       "      <td>0</td>\n",
       "      <td>0</td>\n",
       "      <td>0</td>\n",
       "      <td>0</td>\n",
       "      <td>0</td>\n",
       "      <td>0</td>\n",
       "      <td>0</td>\n",
       "      <td>1</td>\n",
       "    </tr>\n",
       "    <tr>\n",
       "      <th>1</th>\n",
       "      <td>NaN</td>\n",
       "      <td>NaN</td>\n",
       "      <td>NaN</td>\n",
       "      <td>NaN</td>\n",
       "      <td>NaN</td>\n",
       "      <td>NaN</td>\n",
       "      <td>0</td>\n",
       "      <td>0</td>\n",
       "      <td>NaN</td>\n",
       "      <td>NaN</td>\n",
       "      <td>...</td>\n",
       "      <td>0</td>\n",
       "      <td>0</td>\n",
       "      <td>0</td>\n",
       "      <td>0</td>\n",
       "      <td>0</td>\n",
       "      <td>0</td>\n",
       "      <td>0</td>\n",
       "      <td>0</td>\n",
       "      <td>0</td>\n",
       "      <td>0</td>\n",
       "    </tr>\n",
       "    <tr>\n",
       "      <th>2</th>\n",
       "      <td>3.2</td>\n",
       "      <td>3.0</td>\n",
       "      <td>4.0</td>\n",
       "      <td>0.0</td>\n",
       "      <td>NaN</td>\n",
       "      <td>0.0</td>\n",
       "      <td>1</td>\n",
       "      <td>0</td>\n",
       "      <td>English</td>\n",
       "      <td>Alabama State University</td>\n",
       "      <td>...</td>\n",
       "      <td>0</td>\n",
       "      <td>0</td>\n",
       "      <td>0</td>\n",
       "      <td>0</td>\n",
       "      <td>0</td>\n",
       "      <td>0</td>\n",
       "      <td>0</td>\n",
       "      <td>0</td>\n",
       "      <td>0</td>\n",
       "      <td>0</td>\n",
       "    </tr>\n",
       "    <tr>\n",
       "      <th>3</th>\n",
       "      <td>3.6</td>\n",
       "      <td>3.5</td>\n",
       "      <td>10.0</td>\n",
       "      <td>1.0</td>\n",
       "      <td>NaN</td>\n",
       "      <td>0.0</td>\n",
       "      <td>0</td>\n",
       "      <td>0</td>\n",
       "      <td>English</td>\n",
       "      <td>University of Kentucky</td>\n",
       "      <td>...</td>\n",
       "      <td>0</td>\n",
       "      <td>2</td>\n",
       "      <td>1</td>\n",
       "      <td>0</td>\n",
       "      <td>0</td>\n",
       "      <td>0</td>\n",
       "      <td>0</td>\n",
       "      <td>0</td>\n",
       "      <td>1</td>\n",
       "      <td>0</td>\n",
       "    </tr>\n",
       "    <tr>\n",
       "      <th>4</th>\n",
       "      <td>1.0</td>\n",
       "      <td>5.0</td>\n",
       "      <td>1.0</td>\n",
       "      <td>0.0</td>\n",
       "      <td>NaN</td>\n",
       "      <td>0.0</td>\n",
       "      <td>0</td>\n",
       "      <td>0</td>\n",
       "      <td>English</td>\n",
       "      <td>Keiser University</td>\n",
       "      <td>...</td>\n",
       "      <td>0</td>\n",
       "      <td>0</td>\n",
       "      <td>0</td>\n",
       "      <td>0</td>\n",
       "      <td>0</td>\n",
       "      <td>0</td>\n",
       "      <td>0</td>\n",
       "      <td>0</td>\n",
       "      <td>0</td>\n",
       "      <td>0</td>\n",
       "    </tr>\n",
       "  </tbody>\n",
       "</table>\n",
       "<p>5 rows × 31 columns</p>\n",
       "</div>"
      ],
      "text/plain": [
       "   avg_rating  avg_difficulty  num_ratings  is_pepper  num_repeat  num_online  \\\n",
       "0         5.0             1.5          2.0        0.0         NaN         0.0   \n",
       "1         NaN             NaN          NaN        NaN         NaN         NaN   \n",
       "2         3.2             3.0          4.0        0.0         NaN         0.0   \n",
       "3         3.6             3.5         10.0        1.0         NaN         0.0   \n",
       "4         1.0             5.0          1.0        0.0         NaN         0.0   \n",
       "\n",
       "   is_male  is_female             major                university  ... tag11  \\\n",
       "0        0          1  Criminal Justice   George Mason University  ...     0   \n",
       "1        0          0               NaN                       NaN  ...     0   \n",
       "2        1          0           English  Alabama State University  ...     0   \n",
       "3        0          0           English    University of Kentucky  ...     0   \n",
       "4        0          0           English         Keiser University  ...     0   \n",
       "\n",
       "   tag12  tag13  tag14  tag15  tag16  tag17  tag18  tag19  tag20  \n",
       "0      0      0      0      0      0      0      0      0      1  \n",
       "1      0      0      0      0      0      0      0      0      0  \n",
       "2      0      0      0      0      0      0      0      0      0  \n",
       "3      2      1      0      0      0      0      0      1      0  \n",
       "4      0      0      0      0      0      0      0      0      0  \n",
       "\n",
       "[5 rows x 31 columns]"
      ]
     },
     "execution_count": 81,
     "metadata": {},
     "output_type": "execute_result"
    }
   ],
   "source": [
    "raw_df = pd.concat([df_num, df_qual, df_tags], axis = 1)\n",
    "raw_df.head()"
   ]
  },
  {
   "cell_type": "markdown",
   "metadata": {
    "id": "6rITOuS_wdK4"
   },
   "source": [
    "**Removing professors with less than 3 ratings**"
   ]
  },
  {
   "cell_type": "code",
   "execution_count": 82,
   "metadata": {
    "colab": {
     "base_uri": "https://localhost:8080/"
    },
    "id": "50XZW-m7wg0f",
    "outputId": "8a93ea10-7f74-41a1-91ef-30c1ee7a8e32"
   },
   "outputs": [
    {
     "name": "stdout",
     "output_type": "stream",
     "text": [
      "Median number of ratings per professor:  3.0\n",
      "Average number of ratings per professor:  5.374721444488887\n",
      "Sample size with 3 or more ratings per professor: 40528\n",
      "Percentage of original sample size: 45.0847%\n",
      "Sample size with 5 or more ratings per professor: 25368\n",
      "Percentage of original sample size: 28.2202%\n"
     ]
    }
   ],
   "source": [
    "df = raw_df.dropna(subset = ['num_ratings'])\n",
    "med_num_ratings = np.median(df['num_ratings'])\n",
    "avg_num_ratings = np.mean(df['num_ratings'])\n",
    "print('Median number of ratings per professor: ', med_num_ratings)\n",
    "print('Average number of ratings per professor: ', avg_num_ratings)\n",
    "\n",
    "for k in [3, 5]:\n",
    "  k_df = df[df['num_ratings'] >= k]\n",
    "  size = len(k_df)\n",
    "  pct_total = size / len(raw_df) * 100\n",
    "  print(f'Sample size with {k} or more ratings per professor: {size}')\n",
    "  print(f'Percentage of original sample size: {pct_total:.4f}%')\n",
    "\n",
    "# filtering for at least 3 ratings\n",
    "df = df[df['num_ratings'] >= 3]"
   ]
  },
  {
   "cell_type": "markdown",
   "metadata": {
    "id": "dSx37CuOxNPW"
   },
   "source": [
    "We have chosen to filter for (keep) professors with **3 or more ratings**, as it retains as much of the data possible while reducing the amount of professors with extreme ratings (1 or 5 due to receiving only 1 or 2 ratings)."
   ]
  },
  {
   "cell_type": "code",
   "execution_count": 83,
   "metadata": {},
   "outputs": [],
   "source": [
    "# Assumption: The data represents sex assigned at birth. Therefore is_male, is_female can not be equal.\n",
    "df = df[df['is_male'] != df['is_female']]\n",
    "\n",
    "# Drop rows with missing gender info\n",
    "df = df.dropna(subset=['is_male', 'is_female'])\n",
    "\n",
    "# Remove rows with missing average difficulty\n",
    "df = df.dropna(subset=['avg_difficulty'])"
   ]
  },
  {
   "cell_type": "markdown",
   "metadata": {
    "id": "L4XOXV4IFALQ"
   },
   "source": [
    "## Q5. Is there a gender difference in terms of average difficulty? Again, a significance test is indicated."
   ]
  },
  {
   "cell_type": "markdown",
   "metadata": {
    "id": "qxXCL4KWGcvM"
   },
   "source": [
    "**Data Cleaning**"
   ]
  },
  {
   "cell_type": "code",
   "execution_count": 88,
   "metadata": {
    "colab": {
     "base_uri": "https://localhost:8080/"
    },
    "id": "7Ws98IrWGArw",
    "outputId": "9f467467-4e05-4dcd-9388-6a26fc3add4f"
   },
   "outputs": [
    {
     "name": "stdout",
     "output_type": "stream",
     "text": [
      "Male difficulty: \n",
      "Sample size:  15801\n",
      "Mean: 2.8841\n",
      "Standard deviation: 0.8530\n",
      "\n",
      "\n",
      "Male difficulty:\n",
      "Sample size:  13925\n",
      "Mean: 2.8827\n",
      "Standard deviation: 0.8509\n"
     ]
    }
   ],
   "source": [
    "df_5 = df.copy()\n",
    "\n",
    "# Split the data into male and female ratings\n",
    "male_difficulty = df_5[df_5['is_male'] == 1]['avg_difficulty']\n",
    "female_difficulty = df_5[df_5['is_female'] == 1]['avg_difficulty']\n",
    "\n",
    "# print cleaned statitics\n",
    "print('Male difficulty: ')\n",
    "print('Sample size: ', len(male_difficulty))\n",
    "print(f'Mean: {np.mean(male_difficulty):.4f}')\n",
    "print(f'Standard deviation: {np.std(male_difficulty):.4f}')\n",
    "print(f'\\n')\n",
    "\n",
    "print('Male difficulty:')\n",
    "print('Sample size: ', len(female_difficulty))\n",
    "print(f'Mean: {np.mean(female_difficulty):.4f}')\n",
    "print(f'Standard deviation: {np.std(female_difficulty):.4f}')"
   ]
  },
  {
   "cell_type": "markdown",
   "metadata": {
    "id": "Ivpdx4H2YY1f"
   },
   "source": [
    "**Visualization**"
   ]
  },
  {
   "cell_type": "code",
   "execution_count": 85,
   "metadata": {
    "colab": {
     "base_uri": "https://localhost:8080/",
     "height": 564
    },
    "id": "F0Z0J62bYYVL",
    "outputId": "96ed1cfb-72bc-4fdf-a8a2-165b7e741e60"
   },
   "outputs": [
    {
     "data": {
      "image/png": "[encoded data removed]",
      "text/plain": [
       "<Figure size 1200x600 with 1 Axes>"
      ]
     },
     "metadata": {},
     "output_type": "display_data"
    }
   ],
   "source": [
    "plt.figure(figsize=(12, 6))\n",
    "\n",
    "sns.histplot(male_difficulty, kde=True, bins=16, alpha=0.6, label='Male')\n",
    "sns.histplot(female_difficulty, kde=True, bins=16, alpha=0.6, label='Female')\n",
    "\n",
    "plt.title('Average Difficulty by Gender')\n",
    "plt.xlabel('Average Difficulty')\n",
    "plt.ylabel('Number of Ratings')\n",
    "plt.legend(title='Professor Gender')\n",
    "\n",
    "plt.show()"
   ]
  },
  {
   "cell_type": "markdown",
   "metadata": {
    "id": "2vLQ8mlDp8WE"
   },
   "source": [
    "**Comparing variances**"
   ]
  },
  {
   "cell_type": "markdown",
   "metadata": {
    "id": "ZXik_OAgp5wd"
   },
   "source": [
    "Because the data appears to be normally distributed, I could employ an F-test to determine if the variances are different. Here, I will use Levene's test; it is more robust than F-test, as it does not require assumption of normality. F-test is more sensitive to normality violations."
   ]
  },
  {
   "cell_type": "code",
   "execution_count": 86,
   "metadata": {},
   "outputs": [
    {
     "name": "stdout",
     "output_type": "stream",
     "text": [
      "Levene's test: \n",
      "Statistic: 0.0927\n",
      "p-value: 0.7607\n"
     ]
    }
   ],
   "source": [
    "levene_stat, levene_pval = stats.levene(male_difficulty, female_difficulty)\n",
    "\n",
    "print('Levene\\'s test: ')\n",
    "print(f'Statistic: {levene_stat:.4f}')\n",
    "print(f'p-value: {levene_pval:.4f}')"
   ]
  },
  {
   "cell_type": "code",
   "execution_count": 87,
   "metadata": {},
   "outputs": [
    {
     "name": "stdout",
     "output_type": "stream",
     "text": [
      "Levene's test: \n",
      "Statistic: 0.0202\n",
      "p-value: 0.8871\n"
     ]
    }
   ],
   "source": [
    "f_stat, f_pval = stats.f_oneway(male_difficulty, female_difficulty)\n",
    "\n",
    "print('Levene\\'s test: ')\n",
    "print(f'Statistic: {f_stat:.4f}')\n",
    "print(f'p-value: {f_pval:.4f}')"
   ]
  },
  {
   "cell_type": "markdown",
   "metadata": {},
   "source": [
    "H0: The average difficulties for male and female professors have equal variances.\n",
    "H1: The average difficulties for male and female professors have unequal variances.\n",
    "Because p-value > 0.005, we retain the null hypothesis and conclude that the variances are equal."
   ]
  },
  {
   "cell_type": "markdown",
   "metadata": {
    "id": "Q4kAOURlT5xs"
   },
   "source": [
    "**Statistical test**\n",
    "\n",
    "Because the difficulty score was presented as an average in the original dataset, we are assuming that difficulty can be reduced to its sample mean.\n",
    "\n",
    "We are comparing 2 sample means, do not know the population parameters, no large inter-individual variability, and similar variances. Therefore, we will use an independent samples t-test."
   ]
  },
  {
   "cell_type": "code",
   "execution_count": 89,
   "metadata": {
    "colab": {
     "base_uri": "https://localhost:8080/"
    },
    "id": "OPobh1nmT-bn",
    "outputId": "b103e6a3-0d06-4d35-b435-9ee2adfccd0e"
   },
   "outputs": [
    {
     "name": "stdout",
     "output_type": "stream",
     "text": [
      "t test statistic:  0.14195532904551686\n",
      "p-value:  0.8871162526038965\n",
      "p-value < alpha = 0.005? False\n",
      "Findings: The average difficulty scores of male and female professors are not significantly different. The results are consistent with chance.\n",
      "Conclusion: There is no gender difference in average difficulty.\n"
     ]
    }
   ],
   "source": [
    "statistic, pval = stats.ttest_ind(male_difficulty, female_difficulty)\n",
    "print('t test statistic: ', statistic)\n",
    "print('p-value: ', pval)\n",
    "print('p-value < alpha = 0.005?', pval< 0.005)\n",
    "print('Findings: The average difficulty scores of male and female professors are not significantly different. The results are consistent with chance.')\n",
    "print('Conclusion: There is no gender difference in average difficulty.')"
   ]
  },
  {
   "cell_type": "markdown",
   "metadata": {
    "id": "jWhAYgH-FuLG"
   },
   "source": [
    "## Q6. Please quantify the likely size of this effect at 95% confidence."
   ]
  },
  {
   "cell_type": "markdown",
   "metadata": {
    "id": "kLwW4RiTbqu9"
   },
   "source": [
    "**Calculate effect size (Cohen's d) with 95% confidence intervals**"
   ]
  },
  {
   "cell_type": "code",
   "execution_count": 91,
   "metadata": {
    "colab": {
     "base_uri": "https://localhost:8080/"
    },
    "id": "iKUtTmwRGBo2",
    "outputId": "366c1838-acba-45a1-cb3f-0384a4d0d5b0"
   },
   "outputs": [
    {
     "name": "stdout",
     "output_type": "stream",
     "text": [
      "Effect size (Cohen's d): 0.001650\n"
     ]
    }
   ],
   "source": [
    "mean_male = np.mean(male_difficulty)\n",
    "std_male = np.std(male_difficulty)\n",
    "\n",
    "mean_female = np.mean(female_difficulty)\n",
    "std_female = np.std(female_difficulty)\n",
    "\n",
    "numerator = abs(mean_male - mean_female)\n",
    "denominator = np.sqrt((std_male**2 + std_female**2) / 2) # pooled sd\n",
    "d = numerator/denominator\n",
    "\n",
    "print(f'Effect size (Cohen\\'s d): {d:.6f}')"
   ]
  },
  {
   "cell_type": "code",
   "execution_count": 92,
   "metadata": {
    "colab": {
     "base_uri": "https://localhost:8080/"
    },
    "id": "9vf2Vy1vdWCm",
    "outputId": "c7cdc8a3-b06b-4a74-f7bb-ff20cd58af58"
   },
   "outputs": [
    {
     "name": "stdout",
     "output_type": "stream",
     "text": [
      "95% confidence interval: [-0.02113, 0.02443]\n"
     ]
    }
   ],
   "source": [
    "confidence = 0.95 #confidence level at 95%\n",
    "size_male = len(male_difficulty)\n",
    "size_female = len(female_difficulty)\n",
    "\n",
    "# calculate standard error of d\n",
    "se = np.sqrt((size_male + size_female)/(size_male * size_female) + d**2/(2*(size_male + size_female)))\n",
    "\n",
    "# calculate z score and confidence intervals\n",
    "z_score = stats.norm.ppf((1 + confidence) / 2)\n",
    "lower_cb = d - z_score * se\n",
    "upper_cb = d + z_score * se\n",
    "\n",
    "print(f'95% confidence interval: [{lower_cb:.5f}, {upper_cb:.5f}]')"
   ]
  },
  {
   "cell_type": "markdown",
   "metadata": {
    "id": "Y59BM_gwcmr5"
   },
   "source": [
    "Findings: We estimate the effect size to be 0.001650 with 95% confidence that the true effect lies in the interval of [-0.02113, 0.02443].\n",
    "\n",
    "Interpretation: With an effect size this small, the distribution of average difficulty between male and female professors nearly overlaps. The average difference in average difficulty is 0.165% of a standard deviation."
   ]
  },
  {
   "cell_type": "markdown",
   "metadata": {
    "id": "68whAXW90mex"
   },
   "source": [
    "**Visualization**"
   ]
  },
  {
   "cell_type": "code",
   "execution_count": 93,
   "metadata": {
    "colab": {
     "base_uri": "https://localhost:8080/",
     "height": 207
    },
    "id": "TWaUTKi1vyKt",
    "outputId": "7eca00c7-087c-4d02-d20f-c06ea6e5cffe"
   },
   "outputs": [
    {
     "data": {
      "image/png": "[encoded data removed]",
      "text/plain": [
       "<Figure size 800x500 with 1 Axes>"
      ]
     },
     "metadata": {},
     "output_type": "display_data"
    }
   ],
   "source": [
    "# Create the plot\n",
    "plt.figure(figsize=(8, 5))\n",
    "\n",
    "x = np.linspace(d - 4*se, d + 4*se, 1000)\n",
    "y = stats.norm.pdf(x, d, se)\n",
    "\n",
    "plt.plot(x, y, color = 'b', alpha = 0.5)\n",
    "plt.fill_between(x, y, alpha = 0.2, color = 'b')\n",
    "\n",
    "plt.axvline(lower_cb, color = 'r', linestyle = 'dashed', linewidth = 1.5, label = 'Lower CI')\n",
    "plt.axvline(upper_cb, color = 'r', linestyle = 'dashed', linewidth = 1.5, label = 'Upper CI')\n",
    "plt.axvline(d, color = 'y', linestyle = 'solid', linewidth = 1.5, label = 'Effect Size')\n",
    "\n",
    "plt.xlabel('Effect Size (Cohen\\'s d)')\n",
    "plt.ylabel('Density')\n",
    "plt.title('Sampling Distribution of Effect Size (Cohen\\'s d) with 95% CI')\n",
    "\n",
    "plt.legend()\n",
    "plt.tight_layout()\n",
    "plt.show()"
   ]
  },
  {
   "cell_type": "markdown",
   "metadata": {
    "id": "nqJGamZTF_b0"
   },
   "source": [
    "## Q8. Build a regression model predicting average ratings from all tags (the ones in the rmpCapstoneTags.csv) file. Make sure to include the R2and RMSE of this model. Which of these tags is most strongly predictive of average rating? Hint: Make sure to address collinearity concerns. Also comment on how this model compares to the previous one."
   ]
  },
  {
   "cell_type": "markdown",
   "metadata": {
    "id": "JTDkd0Ql54ED"
   },
   "source": [
    "**Dataframe joining and cleaning**"
   ]
  },
  {
   "cell_type": "code",
   "execution_count": 96,
   "metadata": {
    "colab": {
     "base_uri": "https://localhost:8080/",
     "height": 444
    },
    "id": "kaaYrOMLF7ae",
    "outputId": "1f774095-cf37-4c03-e43d-92edae9b237a"
   },
   "outputs": [
    {
     "data": {
      "text/html": [
       "<div>\n",
       "<style scoped>\n",
       "    .dataframe tbody tr th:only-of-type {\n",
       "        vertical-align: middle;\n",
       "    }\n",
       "\n",
       "    .dataframe tbody tr th {\n",
       "        vertical-align: top;\n",
       "    }\n",
       "\n",
       "    .dataframe thead th {\n",
       "        text-align: right;\n",
       "    }\n",
       "</style>\n",
       "<table border=\"1\" class=\"dataframe\">\n",
       "  <thead>\n",
       "    <tr style=\"text-align: right;\">\n",
       "      <th></th>\n",
       "      <th>avg_rating</th>\n",
       "      <th>tag1</th>\n",
       "      <th>tag2</th>\n",
       "      <th>tag3</th>\n",
       "      <th>tag4</th>\n",
       "      <th>tag5</th>\n",
       "      <th>tag6</th>\n",
       "      <th>tag7</th>\n",
       "      <th>tag8</th>\n",
       "      <th>tag9</th>\n",
       "      <th>...</th>\n",
       "      <th>tag11</th>\n",
       "      <th>tag12</th>\n",
       "      <th>tag13</th>\n",
       "      <th>tag14</th>\n",
       "      <th>tag15</th>\n",
       "      <th>tag16</th>\n",
       "      <th>tag17</th>\n",
       "      <th>tag18</th>\n",
       "      <th>tag19</th>\n",
       "      <th>tag20</th>\n",
       "    </tr>\n",
       "  </thead>\n",
       "  <tbody>\n",
       "    <tr>\n",
       "      <th>2</th>\n",
       "      <td>3.2</td>\n",
       "      <td>2</td>\n",
       "      <td>1</td>\n",
       "      <td>2</td>\n",
       "      <td>1</td>\n",
       "      <td>0</td>\n",
       "      <td>4</td>\n",
       "      <td>2</td>\n",
       "      <td>0</td>\n",
       "      <td>0</td>\n",
       "      <td>...</td>\n",
       "      <td>0</td>\n",
       "      <td>0</td>\n",
       "      <td>0</td>\n",
       "      <td>0</td>\n",
       "      <td>0</td>\n",
       "      <td>0</td>\n",
       "      <td>0</td>\n",
       "      <td>0</td>\n",
       "      <td>0</td>\n",
       "      <td>0</td>\n",
       "    </tr>\n",
       "    <tr>\n",
       "      <th>5</th>\n",
       "      <td>3.5</td>\n",
       "      <td>8</td>\n",
       "      <td>13</td>\n",
       "      <td>1</td>\n",
       "      <td>3</td>\n",
       "      <td>2</td>\n",
       "      <td>3</td>\n",
       "      <td>2</td>\n",
       "      <td>1</td>\n",
       "      <td>0</td>\n",
       "      <td>...</td>\n",
       "      <td>0</td>\n",
       "      <td>7</td>\n",
       "      <td>3</td>\n",
       "      <td>0</td>\n",
       "      <td>0</td>\n",
       "      <td>0</td>\n",
       "      <td>3</td>\n",
       "      <td>0</td>\n",
       "      <td>1</td>\n",
       "      <td>3</td>\n",
       "    </tr>\n",
       "    <tr>\n",
       "      <th>18</th>\n",
       "      <td>4.2</td>\n",
       "      <td>0</td>\n",
       "      <td>2</td>\n",
       "      <td>0</td>\n",
       "      <td>0</td>\n",
       "      <td>1</td>\n",
       "      <td>0</td>\n",
       "      <td>0</td>\n",
       "      <td>0</td>\n",
       "      <td>1</td>\n",
       "      <td>...</td>\n",
       "      <td>0</td>\n",
       "      <td>0</td>\n",
       "      <td>0</td>\n",
       "      <td>0</td>\n",
       "      <td>0</td>\n",
       "      <td>0</td>\n",
       "      <td>1</td>\n",
       "      <td>0</td>\n",
       "      <td>0</td>\n",
       "      <td>0</td>\n",
       "    </tr>\n",
       "    <tr>\n",
       "      <th>21</th>\n",
       "      <td>2.6</td>\n",
       "      <td>4</td>\n",
       "      <td>3</td>\n",
       "      <td>0</td>\n",
       "      <td>0</td>\n",
       "      <td>2</td>\n",
       "      <td>0</td>\n",
       "      <td>1</td>\n",
       "      <td>1</td>\n",
       "      <td>0</td>\n",
       "      <td>...</td>\n",
       "      <td>0</td>\n",
       "      <td>0</td>\n",
       "      <td>0</td>\n",
       "      <td>0</td>\n",
       "      <td>0</td>\n",
       "      <td>1</td>\n",
       "      <td>1</td>\n",
       "      <td>0</td>\n",
       "      <td>5</td>\n",
       "      <td>1</td>\n",
       "    </tr>\n",
       "    <tr>\n",
       "      <th>22</th>\n",
       "      <td>3.7</td>\n",
       "      <td>0</td>\n",
       "      <td>0</td>\n",
       "      <td>0</td>\n",
       "      <td>1</td>\n",
       "      <td>1</td>\n",
       "      <td>0</td>\n",
       "      <td>0</td>\n",
       "      <td>0</td>\n",
       "      <td>0</td>\n",
       "      <td>...</td>\n",
       "      <td>0</td>\n",
       "      <td>1</td>\n",
       "      <td>0</td>\n",
       "      <td>0</td>\n",
       "      <td>0</td>\n",
       "      <td>0</td>\n",
       "      <td>0</td>\n",
       "      <td>0</td>\n",
       "      <td>0</td>\n",
       "      <td>0</td>\n",
       "    </tr>\n",
       "    <tr>\n",
       "      <th>...</th>\n",
       "      <td>...</td>\n",
       "      <td>...</td>\n",
       "      <td>...</td>\n",
       "      <td>...</td>\n",
       "      <td>...</td>\n",
       "      <td>...</td>\n",
       "      <td>...</td>\n",
       "      <td>...</td>\n",
       "      <td>...</td>\n",
       "      <td>...</td>\n",
       "      <td>...</td>\n",
       "      <td>...</td>\n",
       "      <td>...</td>\n",
       "      <td>...</td>\n",
       "      <td>...</td>\n",
       "      <td>...</td>\n",
       "      <td>...</td>\n",
       "      <td>...</td>\n",
       "      <td>...</td>\n",
       "      <td>...</td>\n",
       "      <td>...</td>\n",
       "    </tr>\n",
       "    <tr>\n",
       "      <th>89866</th>\n",
       "      <td>4.4</td>\n",
       "      <td>4</td>\n",
       "      <td>1</td>\n",
       "      <td>1</td>\n",
       "      <td>0</td>\n",
       "      <td>1</td>\n",
       "      <td>5</td>\n",
       "      <td>3</td>\n",
       "      <td>0</td>\n",
       "      <td>0</td>\n",
       "      <td>...</td>\n",
       "      <td>0</td>\n",
       "      <td>3</td>\n",
       "      <td>3</td>\n",
       "      <td>3</td>\n",
       "      <td>1</td>\n",
       "      <td>4</td>\n",
       "      <td>2</td>\n",
       "      <td>3</td>\n",
       "      <td>0</td>\n",
       "      <td>1</td>\n",
       "    </tr>\n",
       "    <tr>\n",
       "      <th>89868</th>\n",
       "      <td>3.8</td>\n",
       "      <td>1</td>\n",
       "      <td>2</td>\n",
       "      <td>1</td>\n",
       "      <td>0</td>\n",
       "      <td>0</td>\n",
       "      <td>0</td>\n",
       "      <td>0</td>\n",
       "      <td>1</td>\n",
       "      <td>0</td>\n",
       "      <td>...</td>\n",
       "      <td>0</td>\n",
       "      <td>0</td>\n",
       "      <td>1</td>\n",
       "      <td>0</td>\n",
       "      <td>0</td>\n",
       "      <td>0</td>\n",
       "      <td>2</td>\n",
       "      <td>3</td>\n",
       "      <td>1</td>\n",
       "      <td>4</td>\n",
       "    </tr>\n",
       "    <tr>\n",
       "      <th>89877</th>\n",
       "      <td>3.6</td>\n",
       "      <td>3</td>\n",
       "      <td>0</td>\n",
       "      <td>1</td>\n",
       "      <td>0</td>\n",
       "      <td>0</td>\n",
       "      <td>1</td>\n",
       "      <td>6</td>\n",
       "      <td>1</td>\n",
       "      <td>1</td>\n",
       "      <td>...</td>\n",
       "      <td>0</td>\n",
       "      <td>1</td>\n",
       "      <td>2</td>\n",
       "      <td>2</td>\n",
       "      <td>0</td>\n",
       "      <td>1</td>\n",
       "      <td>3</td>\n",
       "      <td>0</td>\n",
       "      <td>0</td>\n",
       "      <td>1</td>\n",
       "    </tr>\n",
       "    <tr>\n",
       "      <th>89885</th>\n",
       "      <td>3.9</td>\n",
       "      <td>2</td>\n",
       "      <td>0</td>\n",
       "      <td>0</td>\n",
       "      <td>3</td>\n",
       "      <td>0</td>\n",
       "      <td>1</td>\n",
       "      <td>0</td>\n",
       "      <td>1</td>\n",
       "      <td>0</td>\n",
       "      <td>...</td>\n",
       "      <td>0</td>\n",
       "      <td>0</td>\n",
       "      <td>0</td>\n",
       "      <td>0</td>\n",
       "      <td>0</td>\n",
       "      <td>1</td>\n",
       "      <td>1</td>\n",
       "      <td>0</td>\n",
       "      <td>0</td>\n",
       "      <td>0</td>\n",
       "    </tr>\n",
       "    <tr>\n",
       "      <th>89890</th>\n",
       "      <td>5.0</td>\n",
       "      <td>0</td>\n",
       "      <td>3</td>\n",
       "      <td>1</td>\n",
       "      <td>1</td>\n",
       "      <td>2</td>\n",
       "      <td>1</td>\n",
       "      <td>0</td>\n",
       "      <td>0</td>\n",
       "      <td>0</td>\n",
       "      <td>...</td>\n",
       "      <td>0</td>\n",
       "      <td>0</td>\n",
       "      <td>4</td>\n",
       "      <td>0</td>\n",
       "      <td>0</td>\n",
       "      <td>1</td>\n",
       "      <td>0</td>\n",
       "      <td>0</td>\n",
       "      <td>0</td>\n",
       "      <td>0</td>\n",
       "    </tr>\n",
       "  </tbody>\n",
       "</table>\n",
       "<p>29726 rows × 21 columns</p>\n",
       "</div>"
      ],
      "text/plain": [
       "       avg_rating  tag1  tag2  tag3  tag4  tag5  tag6  tag7  tag8  tag9  ...  \\\n",
       "2             3.2     2     1     2     1     0     4     2     0     0  ...   \n",
       "5             3.5     8    13     1     3     2     3     2     1     0  ...   \n",
       "18            4.2     0     2     0     0     1     0     0     0     1  ...   \n",
       "21            2.6     4     3     0     0     2     0     1     1     0  ...   \n",
       "22            3.7     0     0     0     1     1     0     0     0     0  ...   \n",
       "...           ...   ...   ...   ...   ...   ...   ...   ...   ...   ...  ...   \n",
       "89866         4.4     4     1     1     0     1     5     3     0     0  ...   \n",
       "89868         3.8     1     2     1     0     0     0     0     1     0  ...   \n",
       "89877         3.6     3     0     1     0     0     1     6     1     1  ...   \n",
       "89885         3.9     2     0     0     3     0     1     0     1     0  ...   \n",
       "89890         5.0     0     3     1     1     2     1     0     0     0  ...   \n",
       "\n",
       "       tag11  tag12  tag13  tag14  tag15  tag16  tag17  tag18  tag19  tag20  \n",
       "2          0      0      0      0      0      0      0      0      0      0  \n",
       "5          0      7      3      0      0      0      3      0      1      3  \n",
       "18         0      0      0      0      0      0      1      0      0      0  \n",
       "21         0      0      0      0      0      1      1      0      5      1  \n",
       "22         0      1      0      0      0      0      0      0      0      0  \n",
       "...      ...    ...    ...    ...    ...    ...    ...    ...    ...    ...  \n",
       "89866      0      3      3      3      1      4      2      3      0      1  \n",
       "89868      0      0      1      0      0      0      2      3      1      4  \n",
       "89877      0      1      2      2      0      1      3      0      0      1  \n",
       "89885      0      0      0      0      0      1      1      0      0      0  \n",
       "89890      0      0      4      0      0      1      0      0      0      0  \n",
       "\n",
       "[29726 rows x 21 columns]"
      ]
     },
     "execution_count": 96,
     "metadata": {},
     "output_type": "execute_result"
    }
   ],
   "source": [
    "tag_cols = []\n",
    "for tag in df_tags.columns:\n",
    "    tag_cols.append(tag)\n",
    "\n",
    "df_8 = pd.concat([df['avg_rating'], df[tag_cols]], axis = 1)\n",
    "df_8"
   ]
  },
  {
   "cell_type": "markdown",
   "metadata": {},
   "source": [
    "**Normalize tag numbers**"
   ]
  },
  {
   "cell_type": "markdown",
   "metadata": {},
   "source": [
    "To account for professors with numbers of ratings, we will normalize by calculating the proportion of that professor's ratings per tag, rather than using the raw number of ratings."
   ]
  },
  {
   "cell_type": "code",
   "execution_count": null,
   "metadata": {},
   "outputs": [],
   "source": [
    "df_8 = "
   ]
  },
  {
   "cell_type": "markdown",
   "metadata": {
    "id": "SmHK3V81ehUA"
   },
   "source": [
    "plan\n",
    "* normalize based on proportion of ratings for that professor\n",
    "*\n",
    "* ridge regression (regularization) with CV\n"
   ]
  },
  {
   "cell_type": "markdown",
   "metadata": {
    "id": "y1-LvcysKtDq"
   },
   "source": [
    "**Check for high sparsity tags**"
   ]
  },
  {
   "cell_type": "code",
   "execution_count": 95,
   "metadata": {
    "colab": {
     "base_uri": "https://localhost:8080/"
    },
    "id": "7npcrY_QKijD",
    "outputId": "c1003e83-8c2b-4a99-cc66-d6ff644bc016"
   },
   "outputs": [
    {
     "name": "stdout",
     "output_type": "stream",
     "text": [
      "Proportion of professors without each tag\n",
      "tag1: 49.34%\n",
      "tag2: 30.65%\n",
      "tag3: 45.42%\n",
      "tag4: 54.52%\n",
      "tag5: 43.83%\n",
      "tag6: 48.63%\n",
      "tag7: 55.15%\n",
      "tag8: 61.14%\n",
      "tag9: 86.66%\n",
      "tag10: 69.42%\n",
      "tag11: 85.23%\n",
      "tag12: 48.85%\n",
      "tag13: 61.29%\n",
      "tag14: 85.46%\n",
      "tag15: 83.63%\n",
      "tag16: 60.31%\n",
      "tag17: 37.36%\n",
      "tag18: 67.83%\n",
      "tag19: 80.48%\n",
      "tag20: 64.19%\n"
     ]
    }
   ],
   "source": [
    "tags_df = df_8.iloc[:,1:]\n",
    "\n",
    "print('Proportion of professors without each tag')\n",
    "for col in tags_df.columns:\n",
    "  no_tag = tags_df[tags_df[col] == 0]\n",
    "  print(f'{col}: {(len(no_tag) / len(tags_df)*100):.2f}%')\n"
   ]
  },
  {
   "cell_type": "markdown",
   "metadata": {
    "id": "2hnwty5eGHES"
   },
   "source": [
    "## Q10. Build a classification model that predicts whether a professor receives a “pepper” from all available factors(both tags and numerical). Make sure to include model quality metrics such as AU(RO)C and also address class imbalance concerns."
   ]
  },
  {
   "cell_type": "code",
   "execution_count": null,
   "metadata": {
    "id": "h-MH25ZkGKcN"
   },
   "outputs": [],
   "source": []
  }
 ],
 "metadata": {
  "colab": {
   "provenance": []
  },
  "kernelspec": {
   "display_name": "base",
   "language": "python",
   "name": "python3"
  },
  "language_info": {
   "codemirror_mode": {
    "name": "ipython",
    "version": 3
   },
   "file_extension": ".py",
   "mimetype": "text/x-python",
   "name": "python",
   "nbconvert_exporter": "python",
   "pygments_lexer": "ipython3",
   "version": "3.12.2"
  }
 },
 "nbformat": 4,
 "nbformat_minor": 0
}
